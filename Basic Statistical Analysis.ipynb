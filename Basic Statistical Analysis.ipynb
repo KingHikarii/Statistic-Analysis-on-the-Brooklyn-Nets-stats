{
 "cells": [
  {
   "cell_type": "markdown",
   "metadata": {},
   "source": [
    "The basketball team known as the Brooklyn Nets will be the athletics team that will be targeted for this report and manipulation of data. The structure for the Brooklyn Nets is quite straightforward, it would have the name of the players, the position of the players, and the nationality, or college of the people. Another thing that the record would be keeping is the height, weight, 3-Pointers of the athlete as well. It would be a clear structures data, with information concerning the player. The reasoning for this is because it is critical for the coach to have a decent amount of knowledge concerning his or her players.\n",
    "\n",
    "Utilizing dictionary for the structured data of the Brooklyn Nets is most neccesary, and most flexible. As we can pull the values that we need from it, by using different instructions.\n",
    "\n",
    "The size of the data would be quite clear, and it would be dependent on the amount of information that is necessary to put. Within the NBA, a team can only have up to 15 players, and not any more of that, so the column of the data would be quite clear concerning the Brooklyn Nets and that is to have only 15 rows. However, due to time constraints, I have minimized it to only 5 rows.\n",
    "\n",
    "Attributes within a structured data can represent each thing that has been measured and accounted for. And the attributes can have different data types, such as numbers, names, or even dates. And each attributes tend to have the datatypes for each measurement. The rows will be each object that has been accounted for or measured and the columns will have the attribute.\n",
    "We want the data for the Brooklyn Nets to be a structured data because we want to be to look at each row and see information about each individual professional athlete, having a structured data will make information direct, since each attribute will be the same, such as how much the player currently weight, how tall is the player, the integer for the years of experience the player has.\n",
    "\n",
    "The contents of data contain ages, weights, heights, 3-pointers these entities are very necessary to the coach for strategic purposes, and athletics purpose. It is important for the coach to know the average height of the player because, if he or she doesn’t know the average height, it may give him an error concerning knowledge, having too many short players can influence the team, and having too many tall players can also influence the team as well. It is important for the coach to ensure that the team has a balance of both. A smaller player makes effect for a better point guard as he has the speed and agility. A tall player makes effect for a better center as he can due rebounds and layups more easily. So, the balance of this is important.\n",
    "Concerning weight, is important to know the weights of the player because, if the player is gaining weight, this may be detrimental to the team because the speed of the player will lower as he gains weight, so is important for the coach to maintain the weight of the player so that, the athleticism of the player doesn’t decrease.\n",
    "Within my dataset, I created a list of all these contents, and calculated the average, the mean, and the mode using functions. These functions will take the list of ages, weights, heights, and 3-points, and give a mathematical output to the coach will have an insight on the physiques and skills of a player.\n",
    "\n",
    "Return to the contents, knowing whether the players are able to shoot 3-pointer is very important information to have, and having the statistics behind the 3-point makes of the team is important, so that the coach can make forth of a better training and know whether it is necessary and critical for the team to train in the art of making 3-pointers. \n",
    "It is also critical to know the ages, and its deviation and average, so that the coach will have knowledge on whether the performance of the age is deteriorating or not, because as the players increase in age, the metabolism and athletic performance will begin to decrease at a later time, but it is also good to have older players because they have the experience within basketball and also within the team, and the older players will be able to instruct the new player.\n",
    "\n",
    "All the contents, the attributes and the statistics concerning the attributes are critical because they give knowledge and information that the coach needs to know in order to know what positions to put a player in, in order to know whether he can keep a player playing for a long time or not, and also knowing the weakness and strengths of the player. \n",
    "\n",
    "The reasoning for the dataset to look how it looks like it for the purpose of clarity and for the sake of giving direct information to the coach, adding more attributes and objects to the dataset than what has already been mentioned would cause the coach or any reader of the data to receive confusion because their would have been to many information to interpret, but with the dataset that has been given, it can give the coach a better intuition of what needs to be done for the team strategically, and tactically, and what changes needs to made, what needs to removed and worked on. The data I have given will give insight to that.\n",
    "\n"
   ]
  },
  {
   "cell_type": "code",
   "execution_count": 1,
   "metadata": {},
   "outputs": [],
   "source": [
    "brooklynNets = {\"Kyrie Irving\":                #The following show the data for the basketball team the Brooklyn Nets.\n",
    "                    {\"Stats\":\n",
    "                         {'Age': 28,\n",
    "                          '3-Pointers': 2.8,\n",
    "                          'Height': 188,\n",
    "                          'Weight': 88}, \n",
    "                     },\n",
    "\n",
    "                \"James Harden\":\n",
    "                    {\"Stats\":\n",
    "                         {'Age': 32,\n",
    "                          '3-Pointers': 2.7, \n",
    "                          'Height': 196,\n",
    "                          'Weight': 100}, },\n",
    "\n",
    "                \"Caris LeVert\":\n",
    "                    {\"Stats\":\n",
    "                         {'Age': 26,\n",
    "                          '3-Pointers': 1.8,\n",
    "                          'Height': 198,\n",
    "                          'Weight': 93},\n",
    "                     },\n",
    "\n",
    "                \"Kevin Durant\":\n",
    "                    {\"Stats\":\n",
    "                         {'Age': 32,\n",
    "                          '3-Pointers': 2.4,\n",
    "                          'Height': 208,\n",
    "                          'Weight': 109},\n",
    "                     },\n",
    "\n",
    "\n",
    "                \"Mike James\":\n",
    "                    {\"Stats\":\n",
    "                         {'Age': 30,\n",
    "                          '3-Pointers': 0.8,\n",
    "                          'Height': 185,\n",
    "                          'Weight': 85},\n",
    "                     }\n",
    "                }"
   ]
  },
  {
   "cell_type": "code",
   "execution_count": 3,
   "metadata": {},
   "outputs": [],
   "source": [
    "def average(list): #The list will be thrown here and those calculating the average height of the player\n",
    "    values = 0\n",
    "    for i in list:\n",
    "        values = values + i\n",
    "\n",
    "    avg = values/len(list)\n",
    "    return avg\n",
    "\n",
    "\n",
    "def bubbleSort(list): #The bubble sort will sort the unsorted list, this is necessary for when doing the 5 number summary.\n",
    "    for i in range(len(list)-1, 0, -1):\n",
    "        for j in range(i):\n",
    "            if list[j] > list[j+1]:\n",
    "                temp = list[j]\n",
    "                list[j] = list[j+1]\n",
    "                list[j+1] = temp\n",
    "\n",
    "def mode(list): #This will take the list of the values and will find what is most frequent, this is a generator.\n",
    "    max_count = (0, 0)\n",
    "    for num in list:\n",
    "        howFrequent = list.count(num)\n",
    "        if howFrequent > max_count[0]:\n",
    "            max_count = (howFrequent, num)\n",
    "\n",
    "    yield max_count[1] #Those we use yield, which yield the most frequent number\n",
    "\n",
    "def median(list): #This will return the median number of the list\n",
    "    values = len(list)\n",
    "\n",
    "    if values%2 == 0:\n",
    "        median = (list[(values//2)]+list[((values)//2-1)])/2\n",
    "    else:\n",
    "        median = list(values//2)\n",
    "    return median"
   ]
  },
  {
   "cell_type": "code",
   "execution_count": 4,
   "metadata": {},
   "outputs": [],
   "source": [
    "netsAges = [] #This list was created in order to be filled with the ages for each 5 Brooklyn Net players.\n",
    "nets3P = [] #This list was created in order to be filled with the 3-Pointers for each 5 Brooklyn Net players.\n",
    "\n",
    "netsWeight = [] #This list was created in order to be filled with the weight for each 5 Brooklyn Net players."
   ]
  },
  {
   "cell_type": "code",
   "execution_count": 5,
   "metadata": {},
   "outputs": [
    {
     "name": "stdout",
     "output_type": "stream",
     "text": [
      "These are the list ages of the 5 athletes: [28, 32, 26, 32, 30]\n",
      "These are NetAges in sorted order:  [26, 28, 30, 32, 32]\n",
      "The mean of the ages: 29.6\n",
      "The median of the Nets ages is:  30\n",
      "The mode for the Nets is:  32\n",
      "The lower quartile is:  27.0\n",
      "The upper quartile is 31.0\n"
     ]
    }
   ],
   "source": [
    "for k in brooklynNets.values():\n",
    "    netsAges.append(k.get('Stats', {}).get('Age')) #This is adding the ages of the players to the variable netAges.\n",
    "averageAges = average(netsAges) #This is calculating the mean of the value of NetAges.\n",
    "\n",
    "print(\"These are the list ages of the 5 athletes:\", netsAges)\n",
    "\n",
    "netsAgesSorted = []\n",
    "netsAgesSorted = bubbleSort(netsAges)\n",
    "print(\"These are NetAges in sorted order: \",netsAges)\n",
    "print(\"The mean of the ages:\", averageAges)\n",
    "print(\"The median of the Nets ages is: \", netsAges[len(netsAges)//2])\n",
    "\n",
    "value = mode(netsAges)\n",
    "print(\"The mode for the Nets is: \", value.__next__())\n",
    "middle = len(netsAges)//2\n",
    "lower_quartile = median(netsAges[:middle])\n",
    "upper_quartile = median(netsAges[middle:-1])\n",
    "print(\"The lower quartile is: \", lower_quartile)\n",
    "print(\"The upper quartile is\", upper_quartile)"
   ]
  },
  {
   "cell_type": "code",
   "execution_count": 6,
   "metadata": {},
   "outputs": [
    {
     "name": "stdout",
     "output_type": "stream",
     "text": [
      "These are the heights are of the players:  [188, 196, 198, 208, 185]\n",
      "These are Nets height in sorted order:  [185, 188, 196, 198, 208]\n",
      "The mean of the height: [185, 188, 196, 198, 208]\n",
      "The median of the Nets height is:  196\n",
      "The mode for the Nets height is:  185\n",
      "The lower quartile for Nets heights is:  186.5\n",
      "The upper quartile for Nets height is:  197.0\n"
     ]
    }
   ],
   "source": [
    "netsHeight=[k.get('Stats', {}).get('Height') for k in brooklynNets.values() if \"Height\" in k.get('Stats', {})]\n",
    "print(\"These are the heights are of the players: \",netsHeight)\n",
    "netsHeightSorted = []\n",
    "netsHeightSorted1 = bubbleSort(netsHeight)\n",
    "print(\"These are Nets height in sorted order: \",netsHeight)\n",
    "print(\"The mean of the height:\", netsHeight)\n",
    "print(\"The median of the Nets height is: \", netsHeight[len(netsHeight)//2])\n",
    "value1 = mode(netsHeight)\n",
    "print(\"The mode for the Nets height is: \", value1.__next__())\n",
    "middle = len(netsHeight)//2\n",
    "lower_quartile = median(netsHeight[:middle])\n",
    "upper_quartile = median(netsHeight[middle:-1])\n",
    "print(\"The lower quartile for Nets heights is: \", lower_quartile)\n",
    "print(\"The upper quartile for Nets height is: \", upper_quartile)"
   ]
  },
  {
   "cell_type": "code",
   "execution_count": 7,
   "metadata": {},
   "outputs": [
    {
     "name": "stdout",
     "output_type": "stream",
     "text": [
      "These are the 3-Pointers are of the players:  [2.8, 2.7, 1.8, 2.4, 0.8]\n",
      "These are Nets 3-Pointers in sorted order:  [0.8, 1.8, 2.4, 2.7, 2.8]\n",
      "The mean of the 3-Pointers: [0.8, 1.8, 2.4, 2.7, 2.8]\n",
      "The median of the Nets 3-Pointers is:  2.4\n",
      "The mode for the Nets 3-Pointers is:  0.8\n",
      "The lower quartile for Nets 3-Pointers is:  1.3\n",
      "The upper quartile for Nets 3-Pointers is:  2.55\n"
     ]
    }
   ],
   "source": [
    "nets3P=[k.get('Stats', {}).get('3-Pointers') for k in brooklynNets.values() if \"3-Pointers\" in k.get('Stats', {})] #This is a comprehension and will be adding the values of the 3-Points into Nets3P\n",
    "print(\"These are the 3-Pointers are of the players: \",nets3P)\n",
    "netsHeightSorted = []\n",
    "netsHeightSorted1 = bubbleSort(nets3P)\n",
    "print(\"These are Nets 3-Pointers in sorted order: \",nets3P)\n",
    "print(\"The mean of the 3-Pointers:\", nets3P)\n",
    "print(\"The median of the Nets 3-Pointers is: \", nets3P[len(nets3P)//2])\n",
    "value2 = mode(nets3P)\n",
    "print(\"The mode for the Nets 3-Pointers is: \", value2.__next__())\n",
    "middle = len(nets3P)//2\n",
    "lower_quartile = median(nets3P[:middle])\n",
    "upper_quartile = median(nets3P[middle:-1])\n",
    "print(\"The lower quartile for Nets 3-Pointers is: \", lower_quartile)\n",
    "print(\"The upper quartile for Nets 3-Pointers is: \", upper_quartile)"
   ]
  },
  {
   "cell_type": "code",
   "execution_count": 8,
   "metadata": {},
   "outputs": [
    {
     "name": "stdout",
     "output_type": "stream",
     "text": [
      "These are the Weight are of the players:  [88, 100, 93, 109, 85]\n",
      "These are Nets Weight in sorted order:  [88, 100, 93, 109, 85]\n",
      "The mean of the Weight: [88, 100, 93, 109, 85]\n",
      "The median of the Nets Weight is:  93\n",
      "The mode for the Nets Weight is:  88\n",
      "The lower quartile for Nets Weight is:  94.0\n",
      "The upper quartile for Nets Weight is:  101.0\n"
     ]
    }
   ],
   "source": [
    "netsWeight=[k.get('Stats', {}).get('Weight') for k in brooklynNets.values() if \"Weight\" in k.get('Stats', {})]\n",
    "print(\"These are the Weight are of the players: \",netsWeight)\n",
    "netsWeightSorted = []\n",
    "netsWeightSorted1 = bubbleSort(nets3P)\n",
    "print(\"These are Nets Weight in sorted order: \",netsWeight)\n",
    "print(\"The mean of the Weight:\", netsWeight)\n",
    "print(\"The median of the Nets Weight is: \", netsWeight[len(netsWeight)//2])\n",
    "value3 = mode(netsWeight)\n",
    "print(\"The mode for the Nets Weight is: \", value3.__next__())\n",
    "middle = len(netsWeight)//2\n",
    "lower_quartile = median(netsWeight[:middle])\n",
    "upper_quartile = median(netsWeight[middle:-1])\n",
    "print(\"The lower quartile for Nets Weight is: \", lower_quartile)\n",
    "print(\"The upper quartile for Nets Weight is: \", upper_quartile)"
   ]
  },
  {
   "cell_type": "code",
   "execution_count": null,
   "metadata": {},
   "outputs": [],
   "source": []
  }
 ],
 "metadata": {
  "kernelspec": {
   "display_name": "Python 3",
   "language": "python",
   "name": "python3"
  },
  "language_info": {
   "codemirror_mode": {
    "name": "ipython",
    "version": 3
   },
   "file_extension": ".py",
   "mimetype": "text/x-python",
   "name": "python",
   "nbconvert_exporter": "python",
   "pygments_lexer": "ipython3",
   "version": "3.8.5"
  }
 },
 "nbformat": 4,
 "nbformat_minor": 4
}
